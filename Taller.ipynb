{
 "cells": [
  {
   "cell_type": "markdown",
   "id": "195d0406",
   "metadata": {},
   "source": [
    "**Cree las siguientes funciones, con su debida documentación:**\n",
    "\n",
    "1. Cree una función que regrese como resultado el nombre de un restaurante y su NIT en una cadena de caracteres, pueden ser ficticios.\n",
    "2. Si en dicho restaurante cada persona consume en promedio 50.000, haga una función que permira calcular el valor de la cuenta, en promedio, dado el número de comensales.\n",
    "3. En el total calculado en el punto anterior se incluye el impuesto al consumo, cree una función que le permita conocer el valor que debería pagar sin dicho impuesto el cual asciende al $8\\%$.\n",
    "4. Una función que tenga como argumentos de entrada nombre de una persona y cantidad de comensales, la función debe tener como respuesta un \"recibo\" en el que aparezca el nombre del restaurante, su NIT, el nombre del cliente, el valor de la factura sin impuestos y con impuestos (sug: emplee como base las funciones creadas anteriormente).\n",
    "5. Una función que permita calcular el máximo entre dos números.\n",
    "6. Una función que ordene de menor a mayor tres números.\n",
    "7. Una función que dadas 5 notas de un estudiante, le permitan calcular la definitiva de la materia (nota 1: 10%, nota 2: 20%, nota 3: 30%, nota 4: 15%, nota 5: 25%) junto a un mensaje el cual resuma el desempeño del estudiante en el curso. (*Sug*: utilice los intervalos $0\\leq x<1,\\ 1\\leq x<2,\\ 2\\leq x<3,\\ 3\\leq x<4, 4\\leq x<4.5,\\ 4.5\\leq x\\leq5 $)"
   ]
  },
  {
   "cell_type": "markdown",
   "id": "e5704343",
   "metadata": {},
   "source": [
    "## 1:"
   ]
  },
  {
   "cell_type": "code",
   "execution_count": 1,
   "id": "b775a692",
   "metadata": {},
   "outputs": [],
   "source": [
    "def restaurantes(name,nit):\n",
    "    \n",
    "    \"\"\" Función que imprime el nombre y NIT de un restaurante \"\"\" \n",
    "    \n",
    "    name = 'Creppes & Waffles'\n",
    "    nit = 1234\n",
    "    return name, nit"
   ]
  },
  {
   "cell_type": "code",
   "execution_count": 2,
   "id": "a29b0b5f",
   "metadata": {},
   "outputs": [
    {
     "data": {
      "text/plain": [
       "('Creppes & Waffles', 1234)"
      ]
     },
     "execution_count": 2,
     "metadata": {},
     "output_type": "execute_result"
    }
   ],
   "source": [
    "restaurantes('Creppes & Waffles',1234)"
   ]
  },
  {
   "cell_type": "markdown",
   "id": "77835eb9",
   "metadata": {},
   "source": [
    "## 2:"
   ]
  },
  {
   "cell_type": "code",
   "execution_count": 3,
   "id": "a7fec8d7",
   "metadata": {},
   "outputs": [],
   "source": [
    "def cuenta(comensales):\n",
    "    \n",
    "    \"\"\" Función que calcula el valor de la cuenta, en promedio, dado el número de comensales. \"\"\" \n",
    "    \n",
    "    valCuenta = comensales*50000\n",
    "    \n",
    "    return valCuenta"
   ]
  },
  {
   "cell_type": "code",
   "execution_count": 4,
   "id": "bf0d2031",
   "metadata": {},
   "outputs": [
    {
     "data": {
      "text/plain": [
       "100000"
      ]
     },
     "execution_count": 4,
     "metadata": {},
     "output_type": "execute_result"
    }
   ],
   "source": [
    "cuenta (2)"
   ]
  },
  {
   "cell_type": "markdown",
   "id": "152649c4",
   "metadata": {},
   "source": [
    "## 3:"
   ]
  },
  {
   "cell_type": "code",
   "execution_count": 5,
   "id": "14df6aac",
   "metadata": {},
   "outputs": [],
   "source": [
    "def cuentaSinImp(comensales):\n",
    "    \n",
    "    \"\"\" Función que permite conocer el valor que debería pagar sin impuesto. \"\"\" \n",
    "\n",
    "    cuenta(comensales)\n",
    "    sinImp =  cuenta(comensales)* 100/108\n",
    "    return sinImp"
   ]
  },
  {
   "cell_type": "code",
   "execution_count": 6,
   "id": "c4b5fd7d",
   "metadata": {
    "scrolled": true
   },
   "outputs": [
    {
     "data": {
      "text/plain": [
       "185185.1851851852"
      ]
     },
     "execution_count": 6,
     "metadata": {},
     "output_type": "execute_result"
    }
   ],
   "source": [
    "cuentaSinImp(4)"
   ]
  },
  {
   "cell_type": "markdown",
   "id": "74d84f55",
   "metadata": {},
   "source": [
    "## 4:"
   ]
  },
  {
   "cell_type": "code",
   "execution_count": 7,
   "id": "bb172b2f",
   "metadata": {},
   "outputs": [],
   "source": [
    "def recibo(nameP,comensales):\n",
    "    \n",
    "    \"\"\" Función que tiene como respuesta un \"recibo\" con el nombre del restaurante, su NIT, el nombre del cliente, el valor de la factura sin impuestos y con impuestos. \"\"\"\n",
    "    \n",
    "    \n",
    "    print (f\"\"\" RECIBO DE PAGO \\n {restaurantes('Creppes & Waffles',1234)} \\n Estimado cliente, {nameP} \\n El valor de su factura sin impuestos es: {cuentaSinImp(comensales)} \\n El valor de su factura con impuestos es: {cuenta(comensales)}\"\"\")"
   ]
  },
  {
   "cell_type": "code",
   "execution_count": 8,
   "id": "fc039634",
   "metadata": {},
   "outputs": [
    {
     "name": "stdout",
     "output_type": "stream",
     "text": [
      " RECIBO DE PAGO \n",
      " ('Creppes & Waffles', 1234) \n",
      " Estimado cliente, Lina \n",
      " El valor de su factura sin impuestos es: 92592.5925925926 \n",
      " El valor de su factura con impuestos es: 100000\n"
     ]
    }
   ],
   "source": [
    "recibo('Lina',2)"
   ]
  },
  {
   "cell_type": "markdown",
   "id": "0b5356d9",
   "metadata": {},
   "source": [
    "## 5:"
   ]
  },
  {
   "cell_type": "code",
   "execution_count": 9,
   "id": "0019fb5c",
   "metadata": {},
   "outputs": [],
   "source": [
    "def maximo(num1,num2):\n",
    "    \n",
    "    \"\"\"Función que cálcula el máximo entre dos números.\"\"\"\n",
    "    \n",
    "    if num1>num2:\n",
    "    \n",
    "        return num1\n",
    "    \n",
    "    else:\n",
    "        \n",
    "        return num2"
   ]
  },
  {
   "cell_type": "code",
   "execution_count": 10,
   "id": "fd418040",
   "metadata": {},
   "outputs": [
    {
     "data": {
      "text/plain": [
       "33000"
      ]
     },
     "execution_count": 10,
     "metadata": {},
     "output_type": "execute_result"
    }
   ],
   "source": [
    "maximo(33000,1)"
   ]
  },
  {
   "cell_type": "markdown",
   "id": "c67c26cd",
   "metadata": {},
   "source": [
    "## 6:"
   ]
  },
  {
   "cell_type": "code",
   "execution_count": 11,
   "id": "287d3d18",
   "metadata": {},
   "outputs": [],
   "source": [
    "def menor(n1,n2,n3):\n",
    "    \n",
    "    \"\"\"Función que lee tres números y los organiza de menor a mayor.\"\"\"\n",
    "    \n",
    "    if n1<n2:\n",
    "        \n",
    "        if n1<n3:\n",
    "            \n",
    "            if n2<n3:\n",
    "                return n1,n2,n3\n",
    "            else:\n",
    "                return n1,n3,n2\n",
    "    \n",
    "    else:\n",
    "        \n",
    "        if n2<n3:\n",
    "            \n",
    "            if n1<n3:\n",
    "                return n2, n1, n3\n",
    "            else:\n",
    "                return n2, n3, n1\n",
    "        "
   ]
  },
  {
   "cell_type": "code",
   "execution_count": 12,
   "id": "ea95783b",
   "metadata": {},
   "outputs": [
    {
     "data": {
      "text/plain": [
       "(0, 90, 600)"
      ]
     },
     "execution_count": 12,
     "metadata": {},
     "output_type": "execute_result"
    }
   ],
   "source": [
    "menor(90,0,600)"
   ]
  },
  {
   "cell_type": "markdown",
   "id": "c61a7633",
   "metadata": {},
   "source": [
    "## 7: "
   ]
  },
  {
   "cell_type": "code",
   "execution_count": 13,
   "id": "8e3b848e",
   "metadata": {},
   "outputs": [],
   "source": [
    "def definitiva(not1,not2,not3,not4,not5):\n",
    "    \n",
    "    \"\"\"Función que dadas 5 notas de un estudiante, permite calcular la definitiva de la materia\"\"\"\n",
    "    \n",
    "    nota1 = not1*0.10\n",
    "    nota2 = not2*0.20\n",
    "    nota3 = not3*0.30\n",
    "    nota4 = not4*0.15\n",
    "    nota5 = not5*0.25\n",
    "    \n",
    "    defi = nota1+nota2+nota3+nota4+nota5\n",
    "    \n",
    "    if defi>=0 and defi<1:\n",
    "        desempeño = ('Su definitiva es:', defi,'Vergonzoso Desempeño')\n",
    "    elif defi>=1 and defi<2:\n",
    "        desempeño = ('Su definitiva es:', defi,'Pésimo desempeño')\n",
    "    elif defi>=2 and defi<3:\n",
    "        desempeño = ('Su definitiva es:', defi,'Desempeño lamentable')\n",
    "    elif defi>=3 and defi<4:\n",
    "        desempeño = ('Su definitiva es:', defi,'¡Su desempeño puede mejorar!')\n",
    "    elif defi>=4 and defi<4.5:\n",
    "        desempeño = ('Su definitiva es:', defi,'Desempeño sobresaliente')\n",
    "    elif defi>=4.5 and defi>=5:\n",
    "        desempeño = ('Su definitiva es:', defi,'Desempeño excelente')\n",
    "    \n",
    "    return desempeño"
   ]
  },
  {
   "cell_type": "code",
   "execution_count": 14,
   "id": "3fe36468",
   "metadata": {},
   "outputs": [
    {
     "data": {
      "text/plain": [
       "('Su definitiva es:', 5.0, 'Desempeño excelente')"
      ]
     },
     "execution_count": 14,
     "metadata": {},
     "output_type": "execute_result"
    }
   ],
   "source": [
    "definitiva(5,5,5,5,5)"
   ]
  },
  {
   "cell_type": "code",
   "execution_count": null,
   "id": "70dbfcad",
   "metadata": {},
   "outputs": [],
   "source": []
  }
 ],
 "metadata": {
  "kernelspec": {
   "display_name": "Python 3 (ipykernel)",
   "language": "python",
   "name": "python3"
  },
  "language_info": {
   "codemirror_mode": {
    "name": "ipython",
    "version": 3
   },
   "file_extension": ".py",
   "mimetype": "text/x-python",
   "name": "python",
   "nbconvert_exporter": "python",
   "pygments_lexer": "ipython3",
   "version": "3.9.7"
  }
 },
 "nbformat": 4,
 "nbformat_minor": 5
}
